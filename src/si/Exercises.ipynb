{
 "cells": [
  {
   "cell_type": "code",
   "execution_count": 1,
   "metadata": {},
   "outputs": [],
   "source": [
    "import os\n",
    "os.chdir(r\"C:\\Users\\gonca\\OneDrive\\Documentos\\GitHub\\Portefolio_SI\\src\")"
   ]
  },
  {
   "cell_type": "code",
   "execution_count": 7,
   "metadata": {},
   "outputs": [],
   "source": [
    "from si.io.csv_file import read_csv\n",
    "from si.data.dataset import Dataset\n",
    "import numpy as np"
   ]
  },
  {
   "cell_type": "markdown",
   "metadata": {},
   "source": [
    "# Exercise 1"
   ]
  },
  {
   "cell_type": "code",
   "execution_count": 3,
   "metadata": {},
   "outputs": [],
   "source": [
    "# 1.1\n",
    "dataset = read_csv(r\"C:\\Users\\gonca\\OneDrive\\Documentos\\GitHub\\Portefolio_SI\\datasets\\iris\\iris.csv\", sep = \",\", features = \"True\", label = True)\n",
    "dataset2 = read_csv(r\"C:\\Users\\gonca\\OneDrive\\Documentos\\GitHub\\Portefolio_SI\\datasets\\iris\\iris_missing_data.csv\", sep = \",\", features = \"True\", label = True)"
   ]
  },
  {
   "cell_type": "code",
   "execution_count": 4,
   "metadata": {},
   "outputs": [
    {
     "data": {
      "text/plain": [
       "150"
      ]
     },
     "execution_count": 4,
     "metadata": {},
     "output_type": "execute_result"
    }
   ],
   "source": [
    "# 1.2\n",
    "len(dataset.X[:, -2])"
   ]
  },
  {
   "cell_type": "code",
   "execution_count": 5,
   "metadata": {},
   "outputs": [
    {
     "data": {
      "text/plain": [
       "array([6.45, 3.03, 5.33, 2.17])"
      ]
     },
     "execution_count": 5,
     "metadata": {},
     "output_type": "execute_result"
    }
   ],
   "source": [
    "# 1.3\n",
    "temp = dataset.X[-10: , : ]\n",
    "Dataset(temp).get_mean()"
   ]
  },
  {
   "cell_type": "code",
   "execution_count": 6,
   "metadata": {},
   "outputs": [
    {
     "name": "stdout",
     "output_type": "stream",
     "text": [
      "89\n"
     ]
    }
   ],
   "source": [
    "#1.4\n",
    "l = []\n",
    "for x in range(0, len(dataset.X)):\n",
    "    for y in dataset.X[x, :]:\n",
    "        if y <= 6:\n",
    "            l.append(x)\n",
    "counts = {}\n",
    "for number in l:\n",
    "    if number in counts:\n",
    "        counts[number] += 1\n",
    "    else:\n",
    "        counts[number] = 1\n",
    "\n",
    "final = []\n",
    "for x in counts:\n",
    "    if counts[x] == 4:\n",
    "        final.append(x)\n",
    "print(len(final))"
   ]
  },
  {
   "cell_type": "code",
   "execution_count": 7,
   "metadata": {},
   "outputs": [
    {
     "data": {
      "text/plain": [
       "89"
      ]
     },
     "execution_count": 7,
     "metadata": {},
     "output_type": "execute_result"
    }
   ],
   "source": [
    "#1.4 alternativa\n",
    "import numpy as np\n",
    "temp = dataset.X <= 6  \n",
    "final = dataset.X[np.all(temp, axis=1)] \n",
    "final.shape[0]"
   ]
  },
  {
   "cell_type": "code",
   "execution_count": 8,
   "metadata": {},
   "outputs": [
    {
     "name": "stdout",
     "output_type": "stream",
     "text": [
      "100\n"
     ]
    }
   ],
   "source": [
    "#1.5 \n",
    "counter = 0\n",
    "for x in dataset.y:\n",
    "    if x != \"Iris-setosa\":\n",
    "        counter += 1\n",
    "print(counter)"
   ]
  },
  {
   "cell_type": "code",
   "execution_count": 9,
   "metadata": {},
   "outputs": [
    {
     "data": {
      "text/plain": [
       "100"
      ]
     },
     "execution_count": 9,
     "metadata": {},
     "output_type": "execute_result"
    }
   ],
   "source": [
    "# 1.5 alternativa\n",
    "dataset.X[dataset.y != 'Iris-setosa'].shape[0]"
   ]
  },
  {
   "cell_type": "code",
   "execution_count": 10,
   "metadata": {},
   "outputs": [
    {
     "data": {
      "text/plain": [
       "(150, 4)"
      ]
     },
     "execution_count": 10,
     "metadata": {},
     "output_type": "execute_result"
    }
   ],
   "source": [
    "# 2.1 dataset sem NaN\n",
    "lines = np.isnan(dataset.X).any(axis=1)\n",
    "dataset.X = dataset.X[~lines]\n",
    "if dataset.has_label():\n",
    "            dataset.y = dataset.y[~lines]\n",
    "dataset.X.shape"
   ]
  },
  {
   "cell_type": "code",
   "execution_count": 11,
   "metadata": {},
   "outputs": [
    {
     "data": {
      "text/plain": [
       "(134, 4)"
      ]
     },
     "execution_count": 11,
     "metadata": {},
     "output_type": "execute_result"
    }
   ],
   "source": [
    "# 2.1 dataset com Nan\n",
    "lines = np.isnan(dataset2.X).any(axis=1)\n",
    "dataset2.X = dataset2.X[~lines]\n",
    "if dataset2.has_label():\n",
    "            dataset2.y = dataset2.y[~lines]\n",
    "dataset2.X.shape"
   ]
  },
  {
   "cell_type": "code",
   "execution_count": null,
   "metadata": {},
   "outputs": [],
   "source": [
    "# 2.2\n"
   ]
  },
  {
   "cell_type": "code",
   "execution_count": null,
   "metadata": {},
   "outputs": [],
   "source": []
  },
  {
   "cell_type": "code",
   "execution_count": null,
   "metadata": {},
   "outputs": [],
   "source": []
  }
 ],
 "metadata": {
  "kernelspec": {
   "display_name": "base",
   "language": "python",
   "name": "python3"
  },
  "language_info": {
   "codemirror_mode": {
    "name": "ipython",
    "version": 3
   },
   "file_extension": ".py",
   "mimetype": "text/x-python",
   "name": "python",
   "nbconvert_exporter": "python",
   "pygments_lexer": "ipython3",
   "version": "3.9.13"
  },
  "orig_nbformat": 4
 },
 "nbformat": 4,
 "nbformat_minor": 2
}
